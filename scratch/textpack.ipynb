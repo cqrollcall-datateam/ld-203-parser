{
 "cells": [
  {
   "cell_type": "code",
   "execution_count": 23,
   "metadata": {},
   "outputs": [
    {
     "name": "stdout",
     "output_type": "stream",
     "text": [
      "Building the TF-IDF, Cosine & Coord matrices...\n",
      "Building the group lookup...\n",
      "Adding grouped columns to data frame...\n",
      "Ready for export\n"
     ]
    }
   ],
   "source": [
    "import pandas as pd\n",
    "from textpack import tp\n",
    "\n",
    "df = pd.read_csv('scratch/export_openrefine.csv', na_filter = False)\n",
    "\n",
    "names = tp.TextPack(df, ['recipientName'], match_threshold=0.78, ngram_remove=r'[\\(\\),-./]', ngram_length=3)\n",
    "\n",
    "names.run()\n",
    "\n",
    "names.export_csv('scratch/names_grouped.csv')"
   ]
  },
  {
   "cell_type": "code",
   "execution_count": 10,
   "metadata": {},
   "outputs": [
    {
     "name": "stdout",
     "output_type": "stream",
     "text": [
      "/Users/george/Documents/ld-203-parser\n"
     ]
    }
   ],
   "source": []
  }
 ],
 "metadata": {
  "kernelspec": {
   "display_name": "Python 3",
   "language": "python",
   "name": "python3"
  },
  "language_info": {
   "codemirror_mode": {
    "name": "ipython",
    "version": 3
   },
   "file_extension": ".py",
   "mimetype": "text/x-python",
   "name": "python",
   "nbconvert_exporter": "python",
   "pygments_lexer": "ipython3",
   "version": "3.7.4"
  }
 },
 "nbformat": 4,
 "nbformat_minor": 4
}
